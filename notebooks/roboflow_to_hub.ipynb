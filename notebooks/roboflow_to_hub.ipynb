{
 "cells": [
  {
   "cell_type": "code",
   "execution_count": 1,
   "id": "600cdf78",
   "metadata": {},
   "outputs": [],
   "source": [
    "import json\n",
    "import cv2\n",
    "import deeplake as hub\n",
    "import numpy as np\n",
    "import os\n",
    "from tqdm import tqdm\n",
    "import matplotlib.pyplot as plt\n",
    "from torchvision.datasets import CocoDetection"
   ]
  },
  {
   "cell_type": "code",
   "execution_count": 2,
   "id": "fc6bab87",
   "metadata": {},
   "outputs": [
    {
     "name": "stdout",
     "output_type": "stream",
     "text": [
      "loading annotations into memory...\n",
      "Done (t=0.00s)\n",
      "creating index...\n",
      "index created!\n"
     ]
    }
   ],
   "source": [
    "# Load the training data\n",
    "img_folder = \"/home/ec2-user/SageMaker/Nano-Instance-Segmentor/notebooks/Pappers-2-1/valid/\"\n",
    "ann_file = \"/home/ec2-user/SageMaker/Nano-Instance-Segmentor/notebooks/Pappers-2-1/valid/_annotations.coco.json\"\n",
    "\n",
    "dataset = CocoDetection(img_folder, ann_file)"
   ]
  },
  {
   "cell_type": "code",
   "execution_count": 3,
   "id": "1f61695d",
   "metadata": {},
   "outputs": [
    {
     "name": "stdout",
     "output_type": "stream",
     "text": [
      "loading annotations into memory...\n",
      "Done (t=0.00s)\n",
      "creating index...\n",
      "index created!\n"
     ]
    }
   ],
   "source": [
    "from pycocotools.coco import COCO\n",
    "import numpy as np\n",
    "import skimage.io as io\n",
    "import matplotlib.pyplot as plt\n",
    "import os\n",
    "\n",
    "# Define the path to the annotation file corresponding to the images you want to work with\n",
    "annFile =ann_file\n",
    "# Create a COCO object instance\n",
    "coco = COCO(annFile)\n",
    "\n",
    "# Get the IDs of the images\n",
    "imgIds = coco.getImgIds()"
   ]
  },
  {
   "cell_type": "code",
   "execution_count": 4,
   "id": "162d377b",
   "metadata": {},
   "outputs": [
    {
     "name": "stdout",
     "output_type": "stream",
     "text": [
      "Your Deep Lake dataset has been successfully created!\n",
      "The dataset is private so make sure you are logged in!\n",
      "This dataset can be visualized in Jupyter Notebook by ds.visualize() or at https://app.activeloop.ai/aismail2/roboflow_pepper_valid\n",
      "hub://aismail2/roboflow_pepper_valid loaded successfully.\n"
     ]
    },
    {
     "name": "stderr",
     "output_type": "stream",
     "text": [
      "\r",
      "\r"
     ]
    }
   ],
   "source": [
    "ds = hub.empty('hub://aismail2/roboflow_pepper_valid',overwrite=True)"
   ]
  },
  {
   "cell_type": "code",
   "execution_count": 5,
   "id": "85d671cd",
   "metadata": {},
   "outputs": [],
   "source": [
    "class_names=[\"pepper\"]\n",
    "class_map={\"pepper\":0}"
   ]
  },
  {
   "cell_type": "code",
   "execution_count": 6,
   "id": "a9ca3a40",
   "metadata": {},
   "outputs": [],
   "source": [
    "def filter_data(bbox):\n",
    "    minw=3\n",
    "    minh=3\n",
    "    if ((bbox[2]-bbox[0])<minw or (bbox[3]-bbox[1])<minh):\n",
    "        return True\n",
    "    else:\n",
    "        return False"
   ]
  },
  {
   "cell_type": "code",
   "execution_count": 7,
   "id": "a9f72e1c",
   "metadata": {},
   "outputs": [
    {
     "name": "stderr",
     "output_type": "stream",
     "text": [
      " \r"
     ]
    }
   ],
   "source": [
    "with ds:\n",
    "    ds.create_tensor('images', htype='image',sample_compression = 'jpeg')\n",
    "    ds.create_tensor('boxes', htype='bbox')\n",
    "    ds.boxes.info.update(coords = {'type': 'pixel', 'mode': 'LTRB'})\n",
    "    ds.create_tensor('labels', htype='class_label', class_names = class_names)\n",
    "    ds.create_tensor('masks', htype = 'binary_mask', sample_compression = 'lz4')\n",
    "    for i in range(len(imgIds)):\n",
    "        img_info = coco.loadImgs(imgIds[i])[0]\n",
    "        height=img_info[\"height\"]\n",
    "        width=img_info[\"width\"]\n",
    "        img_path=os.path.join(img_folder,img_info['file_name'])\n",
    "        assert os.path.exists(img_path)\n",
    "        # Get the IDs of the annotations for this image\n",
    "        annIds = coco.getAnnIds(imgIds=img_info['id'])\n",
    "        # Load the annotations\n",
    "        anns = coco.loadAnns(annIds)\n",
    "        # Append data to tensors\n",
    "        boxes=[]\n",
    "        class_labels=[]\n",
    "        masks=[]\n",
    "        skip=False\n",
    "        for ann in anns:\n",
    "            if 'segmentation' in ann:\n",
    "                # Get the segmentation (in the form of a binary mask)\n",
    "                binary_mask = coco.annToMask(ann)\n",
    "                nz=np.nonzero(binary_mask)\n",
    "                ys=nz[0]\n",
    "                xs=nz[1]\n",
    "                boxes.append([min(xs),min(ys),max(xs),max(ys)])\n",
    "                class_labels.append(class_map[\"pepper\"])                                   \n",
    "                masks.append(binary_mask.astype(np.uint8)*255)\n",
    "        if (len(boxes))==0:\n",
    "            print(f\"Skipping no label!!\")\n",
    "            continue\n",
    "        if skip:\n",
    "            print(f\"Skipping Image due to very small image\")\n",
    "            continue\n",
    "        boxes=np.array(boxes)\n",
    "        masks=np.array(masks)\n",
    "        # make count last axis for masks require for vis by the tool\n",
    "        masks=np.moveaxis(masks, 0, -1)\n",
    "        class_labels=np.array(class_labels)\n",
    "        ds.images.append(hub.read(img_path))\n",
    "        ds.labels.append(class_labels.astype(np.uint32))\n",
    "        ds.boxes.append(boxes.astype(np.float32))\n",
    "        ds.masks.append(masks.astype(bool))"
   ]
  },
  {
   "cell_type": "code",
   "execution_count": 8,
   "id": "5e8715ed",
   "metadata": {},
   "outputs": [
    {
     "data": {
      "text/plain": [
       "27"
      ]
     },
     "execution_count": 8,
     "metadata": {},
     "output_type": "execute_result"
    }
   ],
   "source": [
    "len(ds)"
   ]
  },
  {
   "cell_type": "code",
   "execution_count": null,
   "id": "04ea5d77",
   "metadata": {},
   "outputs": [],
   "source": []
  }
 ],
 "metadata": {
  "kernelspec": {
   "display_name": "conda_pytorch_p310",
   "language": "python",
   "name": "conda_pytorch_p310"
  },
  "language_info": {
   "codemirror_mode": {
    "name": "ipython",
    "version": 3
   },
   "file_extension": ".py",
   "mimetype": "text/x-python",
   "name": "python",
   "nbconvert_exporter": "python",
   "pygments_lexer": "ipython3",
   "version": "3.10.10"
  }
 },
 "nbformat": 4,
 "nbformat_minor": 5
}
