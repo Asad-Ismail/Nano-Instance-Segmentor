{
 "cells": [
  {
   "cell_type": "code",
   "execution_count": 1,
   "id": "393bfc67",
   "metadata": {},
   "outputs": [
    {
     "name": "stdout",
     "output_type": "stream",
     "text": [
      "Looking in indexes: https://pypi.org/simple, https://pip.repos.neuron.amazonaws.com\n",
      "Requirement already satisfied: roboflow in /home/ec2-user/anaconda3/envs/pytorch_p39/lib/python3.9/site-packages (1.0.9)\n",
      "Requirement already satisfied: Pillow>=7.1.2 in /home/ec2-user/anaconda3/envs/pytorch_p39/lib/python3.9/site-packages (from roboflow) (9.2.0)\n",
      "Requirement already satisfied: chardet==4.0.0 in /home/ec2-user/anaconda3/envs/pytorch_p39/lib/python3.9/site-packages (from roboflow) (4.0.0)\n",
      "Requirement already satisfied: six in /home/ec2-user/anaconda3/envs/pytorch_p39/lib/python3.9/site-packages (from roboflow) (1.16.0)\n",
      "Requirement already satisfied: python-dateutil in /home/ec2-user/anaconda3/envs/pytorch_p39/lib/python3.9/site-packages (from roboflow) (2.8.2)\n",
      "Requirement already satisfied: wget in /home/ec2-user/anaconda3/envs/pytorch_p39/lib/python3.9/site-packages (from roboflow) (3.2)\n",
      "Requirement already satisfied: tqdm>=4.41.0 in /home/ec2-user/anaconda3/envs/pytorch_p39/lib/python3.9/site-packages (from roboflow) (4.63.2)\n",
      "Requirement already satisfied: cycler==0.10.0 in /home/ec2-user/anaconda3/envs/pytorch_p39/lib/python3.9/site-packages (from roboflow) (0.10.0)\n",
      "Requirement already satisfied: python-dotenv in /home/ec2-user/anaconda3/envs/pytorch_p39/lib/python3.9/site-packages (from roboflow) (0.21.1)\n",
      "Requirement already satisfied: numpy>=1.18.5 in /home/ec2-user/anaconda3/envs/pytorch_p39/lib/python3.9/site-packages (from roboflow) (1.23.5)\n",
      "Requirement already satisfied: urllib3>=1.26.6 in /home/ec2-user/anaconda3/envs/pytorch_p39/lib/python3.9/site-packages (from roboflow) (1.26.8)\n",
      "Requirement already satisfied: idna==2.10 in /home/ec2-user/anaconda3/envs/pytorch_p39/lib/python3.9/site-packages (from roboflow) (2.10)\n",
      "Requirement already satisfied: opencv-python>=4.1.2 in /home/ec2-user/anaconda3/envs/pytorch_p39/lib/python3.9/site-packages (from roboflow) (4.6.0.66)\n",
      "Requirement already satisfied: matplotlib in /home/ec2-user/anaconda3/envs/pytorch_p39/lib/python3.9/site-packages (from roboflow) (3.5.3)\n",
      "Requirement already satisfied: pyparsing==2.4.7 in /home/ec2-user/anaconda3/envs/pytorch_p39/lib/python3.9/site-packages (from roboflow) (2.4.7)\n",
      "Requirement already satisfied: certifi==2022.12.7 in /home/ec2-user/anaconda3/envs/pytorch_p39/lib/python3.9/site-packages (from roboflow) (2022.12.7)\n",
      "Requirement already satisfied: PyYAML>=5.3.1 in /home/ec2-user/anaconda3/envs/pytorch_p39/lib/python3.9/site-packages (from roboflow) (5.4.1)\n",
      "Requirement already satisfied: requests-toolbelt in /home/ec2-user/anaconda3/envs/pytorch_p39/lib/python3.9/site-packages (from roboflow) (1.0.0)\n",
      "Requirement already satisfied: kiwisolver>=1.3.1 in /home/ec2-user/anaconda3/envs/pytorch_p39/lib/python3.9/site-packages (from roboflow) (1.4.4)\n",
      "Requirement already satisfied: requests in /home/ec2-user/anaconda3/envs/pytorch_p39/lib/python3.9/site-packages (from roboflow) (2.28.1)\n",
      "Requirement already satisfied: fonttools>=4.22.0 in /home/ec2-user/anaconda3/envs/pytorch_p39/lib/python3.9/site-packages (from matplotlib->roboflow) (4.38.0)\n",
      "Requirement already satisfied: packaging>=20.0 in /home/ec2-user/anaconda3/envs/pytorch_p39/lib/python3.9/site-packages (from matplotlib->roboflow) (21.3)\n",
      "Requirement already satisfied: charset-normalizer<3,>=2 in /home/ec2-user/anaconda3/envs/pytorch_p39/lib/python3.9/site-packages (from requests->roboflow) (2.1.1)\n",
      "Looking in indexes: https://pypi.org/simple, https://pip.repos.neuron.amazonaws.com\n",
      "Requirement already satisfied: pycocotools in /home/ec2-user/anaconda3/envs/pytorch_p39/lib/python3.9/site-packages (2.0.6)\n",
      "Requirement already satisfied: matplotlib>=2.1.0 in /home/ec2-user/anaconda3/envs/pytorch_p39/lib/python3.9/site-packages (from pycocotools) (3.5.3)\n",
      "Requirement already satisfied: numpy in /home/ec2-user/anaconda3/envs/pytorch_p39/lib/python3.9/site-packages (from pycocotools) (1.23.5)\n",
      "Requirement already satisfied: python-dateutil>=2.7 in /home/ec2-user/anaconda3/envs/pytorch_p39/lib/python3.9/site-packages (from matplotlib>=2.1.0->pycocotools) (2.8.2)\n",
      "Requirement already satisfied: pillow>=6.2.0 in /home/ec2-user/anaconda3/envs/pytorch_p39/lib/python3.9/site-packages (from matplotlib>=2.1.0->pycocotools) (9.2.0)\n",
      "Requirement already satisfied: packaging>=20.0 in /home/ec2-user/anaconda3/envs/pytorch_p39/lib/python3.9/site-packages (from matplotlib>=2.1.0->pycocotools) (21.3)\n",
      "Requirement already satisfied: fonttools>=4.22.0 in /home/ec2-user/anaconda3/envs/pytorch_p39/lib/python3.9/site-packages (from matplotlib>=2.1.0->pycocotools) (4.38.0)\n",
      "Requirement already satisfied: pyparsing>=2.2.1 in /home/ec2-user/anaconda3/envs/pytorch_p39/lib/python3.9/site-packages (from matplotlib>=2.1.0->pycocotools) (2.4.7)\n",
      "Requirement already satisfied: kiwisolver>=1.0.1 in /home/ec2-user/anaconda3/envs/pytorch_p39/lib/python3.9/site-packages (from matplotlib>=2.1.0->pycocotools) (1.4.4)\n",
      "Requirement already satisfied: cycler>=0.10 in /home/ec2-user/anaconda3/envs/pytorch_p39/lib/python3.9/site-packages (from matplotlib>=2.1.0->pycocotools) (0.10.0)\n",
      "Requirement already satisfied: six in /home/ec2-user/anaconda3/envs/pytorch_p39/lib/python3.9/site-packages (from cycler>=0.10->matplotlib>=2.1.0->pycocotools) (1.16.0)\n"
     ]
    }
   ],
   "source": [
    "!pip install roboflow\n",
    "!pip install pycocotools"
   ]
  },
  {
   "cell_type": "code",
   "execution_count": 2,
   "id": "8856263a",
   "metadata": {},
   "outputs": [
    {
     "name": "stdout",
     "output_type": "stream",
     "text": [
      "loading Roboflow workspace...\n",
      "loading Roboflow project...\n",
      "Downloading Dataset Version Zip in Windows-Instance-Segmentation-1 to coco-segmentation: 100% [175483952 / 175483952] bytes\n"
     ]
    },
    {
     "name": "stderr",
     "output_type": "stream",
     "text": [
      "Extracting Dataset Version Zip to Windows-Instance-Segmentation-1 in coco-segmentation:: 100%|██████████| 1207/1207 [00:00<00:00, 2626.41it/s]\n"
     ]
    }
   ],
   "source": [
    "from roboflow import Roboflow\n",
    "rf = Roboflow(api_key=\"mEzR10rgs31yQlNcasbD\")\n",
    "project = rf.workspace(\"roboflow-universe-projects\").project(\"windows-instance-segmentation\")\n",
    "dataset = project.version(1).download(\"coco-segmentation\")"
   ]
  },
  {
   "cell_type": "code",
   "execution_count": 6,
   "id": "350c9a2a",
   "metadata": {},
   "outputs": [
    {
     "name": "stdout",
     "output_type": "stream",
     "text": [
      "loading annotations into memory...\n",
      "Done (t=0.24s)\n",
      "creating index...\n",
      "index created!\n"
     ]
    }
   ],
   "source": [
    "import torchvision\n",
    "import os\n",
    "\n",
    "class CocoDetection(torchvision.datasets.CocoDetection):\n",
    "    def __init__(self, img_folder, train=True):\n",
    "        ann_file = os.path.join(img_folder, \"_annotations.coco.json\")\n",
    "        super(CocoDetection, self).__init__(img_folder, ann_file)\n",
    "\n",
    "    def __getitem__(self, idx):\n",
    "        # read in PIL image and target in COCO format\n",
    "        img, target = super(CocoDetection, self).__getitem__(idx)\n",
    "        return img, target\n",
    "\n",
    "train_dataset = CocoDetection(img_folder=(dataset.location + '/train'))"
   ]
  },
  {
   "cell_type": "code",
   "execution_count": 7,
   "id": "1ec01275",
   "metadata": {},
   "outputs": [
    {
     "name": "stdout",
     "output_type": "stream",
     "text": [
      "<PIL.Image.Image image mode=RGB size=541x1024 at 0x7F5049A2D040>\n",
      "[{'id': 0, 'image_id': 0, 'category_id': 1, 'bbox': [223, 242, 38, 70], 'area': 2660, 'segmentation': [[261, 242, 223, 242, 223, 312, 261, 312, 261, 242]], 'iscrowd': 0}, {'id': 1, 'image_id': 0, 'category_id': 1, 'bbox': [302, 242, 39, 70], 'area': 2730, 'segmentation': [[341, 242, 302, 242, 302, 312, 341, 312, 341, 242]], 'iscrowd': 0}, {'id': 2, 'image_id': 0, 'category_id': 1, 'bbox': [220, 396, 39, 76], 'area': 2964, 'segmentation': [[259, 396, 220, 396, 220, 472, 259, 472, 259, 396]], 'iscrowd': 0}, {'id': 3, 'image_id': 0, 'category_id': 1, 'bbox': [302, 396, 38, 76], 'area': 2888, 'segmentation': [[340, 396, 302, 396, 302, 472, 340, 472, 340, 396]], 'iscrowd': 0}, {'id': 4, 'image_id': 0, 'category_id': 1, 'bbox': [219, 557, 43, 78], 'area': 3354, 'segmentation': [[262, 557, 219, 557, 219, 635, 262, 635, 262, 557]], 'iscrowd': 0}, {'id': 5, 'image_id': 0, 'category_id': 1, 'bbox': [302, 557, 38, 98], 'area': 3724, 'segmentation': [[340, 557, 302, 557, 302, 655, 340, 655, 340, 557]], 'iscrowd': 0}, {'id': 6, 'image_id': 0, 'category_id': 1, 'bbox': [223, 711, 39, 78], 'area': 3042, 'segmentation': [[262, 711, 223, 711, 223, 789, 262, 789, 262, 711]], 'iscrowd': 0}, {'id': 7, 'image_id': 0, 'category_id': 1, 'bbox': [302, 711, 38, 76], 'area': 2888, 'segmentation': [[340, 711, 302, 711, 302, 787, 340, 787, 340, 711]], 'iscrowd': 0}, {'id': 8, 'image_id': 0, 'category_id': 1, 'bbox': [383, 240, 39, 73], 'area': 2847, 'segmentation': [[422, 240, 383, 240, 383, 313, 422, 313, 422, 240]], 'iscrowd': 0}, {'id': 9, 'image_id': 0, 'category_id': 1, 'bbox': [463, 242, 41, 70], 'area': 2870, 'segmentation': [[504, 242, 463, 242, 463, 312, 504, 312, 504, 242]], 'iscrowd': 0}, {'id': 10, 'image_id': 0, 'category_id': 1, 'bbox': [383, 396, 38, 74], 'area': 2812, 'segmentation': [[421, 396, 383, 396, 383, 470, 421, 470, 421, 396]], 'iscrowd': 0}, {'id': 11, 'image_id': 0, 'category_id': 1, 'bbox': [463, 394, 38, 76], 'area': 2888, 'segmentation': [[501, 394, 463, 394, 463, 470, 501, 470, 501, 394]], 'iscrowd': 0}, {'id': 12, 'image_id': 0, 'category_id': 1, 'bbox': [384, 557, 37, 101], 'area': 3737, 'segmentation': [[421, 557, 384, 557, 384, 658, 421, 658, 421, 557]], 'iscrowd': 0}, {'id': 13, 'image_id': 0, 'category_id': 1, 'bbox': [462, 556, 39, 77], 'area': 3003, 'segmentation': [[501, 556, 462, 556, 462, 633, 501, 633, 501, 556]], 'iscrowd': 0}, {'id': 14, 'image_id': 0, 'category_id': 1, 'bbox': [384, 711, 38, 76], 'area': 2888, 'segmentation': [[422, 711, 384, 711, 384, 787, 422, 787, 422, 711]], 'iscrowd': 0}, {'id': 15, 'image_id': 0, 'category_id': 1, 'bbox': [463, 711, 38, 75], 'area': 2850, 'segmentation': [[501, 711, 463, 711, 463, 786, 501, 786, 501, 711]], 'iscrowd': 0}, {'id': 16, 'image_id': 0, 'category_id': 1, 'bbox': [71, 243, 35, 45], 'area': 1575, 'segmentation': [[106, 243, 71, 243, 71, 288, 106, 288, 106, 243]], 'iscrowd': 0}, {'id': 17, 'image_id': 0, 'category_id': 1, 'bbox': [121, 243, 34, 43], 'area': 1462, 'segmentation': [[155, 243, 121, 243, 121, 286, 155, 286, 155, 243]], 'iscrowd': 0}, {'id': 18, 'image_id': 0, 'category_id': 1, 'bbox': [62, 370, 31, 81], 'area': 2511, 'segmentation': [[93, 370, 62, 370, 62, 451, 93, 451, 93, 370]], 'iscrowd': 0}, {'id': 19, 'image_id': 0, 'category_id': 1, 'bbox': [107, 370, 32, 81], 'area': 2592, 'segmentation': [[139, 370, 107, 370, 107, 451, 139, 451, 139, 370]], 'iscrowd': 0}, {'id': 20, 'image_id': 0, 'category_id': 1, 'bbox': [60, 539, 34, 82], 'area': 2788, 'segmentation': [[94, 539, 60, 539, 60, 621, 94, 621, 94, 539]], 'iscrowd': 0}, {'id': 21, 'image_id': 0, 'category_id': 1, 'bbox': [106, 539, 35, 84], 'area': 2940, 'segmentation': [[141, 539, 106, 539, 106, 623, 141, 623, 141, 539]], 'iscrowd': 0}, {'id': 22, 'image_id': 0, 'category_id': 1, 'bbox': [72, 711, 35, 76], 'area': 2660, 'segmentation': [[107, 711, 72, 711, 72, 787, 107, 787, 107, 711]], 'iscrowd': 0}, {'id': 23, 'image_id': 0, 'category_id': 1, 'bbox': [122, 711, 35, 76], 'area': 2660, 'segmentation': [[157, 711, 122, 711, 122, 787, 157, 787, 157, 711]], 'iscrowd': 0}]\n"
     ]
    }
   ],
   "source": [
    "for item in train_dataset:\n",
    "    img,ann=item\n",
    "    print(img)\n",
    "    print(ann)\n",
    "    break"
   ]
  },
  {
   "cell_type": "code",
   "execution_count": null,
   "id": "f74f5ebe",
   "metadata": {},
   "outputs": [],
   "source": []
  },
  {
   "cell_type": "code",
   "execution_count": null,
   "id": "a5e99677",
   "metadata": {},
   "outputs": [],
   "source": []
  }
 ],
 "metadata": {
  "kernelspec": {
   "display_name": "conda_pytorch_p39",
   "language": "python",
   "name": "conda_pytorch_p39"
  },
  "language_info": {
   "codemirror_mode": {
    "name": "ipython",
    "version": 3
   },
   "file_extension": ".py",
   "mimetype": "text/x-python",
   "name": "python",
   "nbconvert_exporter": "python",
   "pygments_lexer": "ipython3",
   "version": "3.9.15"
  }
 },
 "nbformat": 4,
 "nbformat_minor": 5
}
