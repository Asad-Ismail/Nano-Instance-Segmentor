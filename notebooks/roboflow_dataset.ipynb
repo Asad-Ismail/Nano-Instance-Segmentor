{
 "cells": [
  {
   "cell_type": "code",
   "execution_count": 1,
   "id": "393bfc67",
   "metadata": {},
   "outputs": [
    {
     "name": "stdout",
     "output_type": "stream",
     "text": [
      "Looking in indexes: https://pypi.org/simple, https://pip.repos.neuron.amazonaws.com\n",
      "Collecting roboflow\n",
      "  Downloading roboflow-1.0.9-py3-none-any.whl (56 kB)\n",
      "\u001b[2K     \u001b[90m━━━━━━━━━━━━━━━━━━━━━━━━━━━━━━━━━━━━━━━━\u001b[0m \u001b[32m56.3/56.3 kB\u001b[0m \u001b[31m9.9 MB/s\u001b[0m eta \u001b[36m0:00:00\u001b[0m\n",
      "\u001b[?25hCollecting chardet==4.0.0\n",
      "  Downloading chardet-4.0.0-py2.py3-none-any.whl (178 kB)\n",
      "\u001b[2K     \u001b[90m━━━━━━━━━━━━━━━━━━━━━━━━━━━━━━━━━━━━━━\u001b[0m \u001b[32m178.7/178.7 kB\u001b[0m \u001b[31m36.7 MB/s\u001b[0m eta \u001b[36m0:00:00\u001b[0m\n",
      "\u001b[?25hRequirement already satisfied: python-dateutil in /home/ec2-user/anaconda3/envs/pytorch_p39/lib/python3.9/site-packages (from roboflow) (2.8.2)\n",
      "Requirement already satisfied: certifi==2022.12.7 in /home/ec2-user/anaconda3/envs/pytorch_p39/lib/python3.9/site-packages (from roboflow) (2022.12.7)\n",
      "Collecting wget\n",
      "  Downloading wget-3.2.zip (10 kB)\n",
      "  Preparing metadata (setup.py) ... \u001b[?25ldone\n",
      "\u001b[?25hRequirement already satisfied: opencv-python>=4.1.2 in /home/ec2-user/anaconda3/envs/pytorch_p39/lib/python3.9/site-packages (from roboflow) (4.6.0.66)\n",
      "Requirement already satisfied: matplotlib in /home/ec2-user/anaconda3/envs/pytorch_p39/lib/python3.9/site-packages (from roboflow) (3.5.3)\n",
      "Requirement already satisfied: PyYAML>=5.3.1 in /home/ec2-user/anaconda3/envs/pytorch_p39/lib/python3.9/site-packages (from roboflow) (5.4.1)\n",
      "Requirement already satisfied: tqdm>=4.41.0 in /home/ec2-user/anaconda3/envs/pytorch_p39/lib/python3.9/site-packages (from roboflow) (4.63.2)\n",
      "Requirement already satisfied: urllib3>=1.26.6 in /home/ec2-user/anaconda3/envs/pytorch_p39/lib/python3.9/site-packages (from roboflow) (1.26.8)\n",
      "Collecting pyparsing==2.4.7\n",
      "  Downloading pyparsing-2.4.7-py2.py3-none-any.whl (67 kB)\n",
      "\u001b[2K     \u001b[90m━━━━━━━━━━━━━━━━━━━━━━━━━━━━━━━━━━━━━━━━\u001b[0m \u001b[32m67.8/67.8 kB\u001b[0m \u001b[31m14.5 MB/s\u001b[0m eta \u001b[36m0:00:00\u001b[0m\n",
      "\u001b[?25hRequirement already satisfied: Pillow>=7.1.2 in /home/ec2-user/anaconda3/envs/pytorch_p39/lib/python3.9/site-packages (from roboflow) (9.2.0)\n",
      "Requirement already satisfied: python-dotenv in /home/ec2-user/anaconda3/envs/pytorch_p39/lib/python3.9/site-packages (from roboflow) (0.21.1)\n",
      "Collecting cycler==0.10.0\n",
      "  Downloading cycler-0.10.0-py2.py3-none-any.whl (6.5 kB)\n",
      "Collecting idna==2.10\n",
      "  Downloading idna-2.10-py2.py3-none-any.whl (58 kB)\n",
      "\u001b[2K     \u001b[90m━━━━━━━━━━━━━━━━━━━━━━━━━━━━━━━━━━━━━━━━\u001b[0m \u001b[32m58.8/58.8 kB\u001b[0m \u001b[31m10.1 MB/s\u001b[0m eta \u001b[36m0:00:00\u001b[0m\n",
      "\u001b[?25hRequirement already satisfied: numpy>=1.18.5 in /home/ec2-user/anaconda3/envs/pytorch_p39/lib/python3.9/site-packages (from roboflow) (1.23.5)\n",
      "Collecting requests-toolbelt\n",
      "  Downloading requests_toolbelt-1.0.0-py2.py3-none-any.whl (54 kB)\n",
      "\u001b[2K     \u001b[90m━━━━━━━━━━━━━━━━━━━━━━━━━━━━━━━━━━━━━━━\u001b[0m \u001b[32m54.5/54.5 kB\u001b[0m \u001b[31m848.4 kB/s\u001b[0m eta \u001b[36m0:00:00\u001b[0ma \u001b[36m0:00:01\u001b[0m\n",
      "\u001b[?25hRequirement already satisfied: requests in /home/ec2-user/anaconda3/envs/pytorch_p39/lib/python3.9/site-packages (from roboflow) (2.28.1)\n",
      "Requirement already satisfied: kiwisolver>=1.3.1 in /home/ec2-user/anaconda3/envs/pytorch_p39/lib/python3.9/site-packages (from roboflow) (1.4.4)\n",
      "Requirement already satisfied: six in /home/ec2-user/anaconda3/envs/pytorch_p39/lib/python3.9/site-packages (from roboflow) (1.16.0)\n",
      "Requirement already satisfied: fonttools>=4.22.0 in /home/ec2-user/anaconda3/envs/pytorch_p39/lib/python3.9/site-packages (from matplotlib->roboflow) (4.38.0)\n",
      "Requirement already satisfied: packaging>=20.0 in /home/ec2-user/anaconda3/envs/pytorch_p39/lib/python3.9/site-packages (from matplotlib->roboflow) (21.3)\n",
      "Requirement already satisfied: charset-normalizer<3,>=2 in /home/ec2-user/anaconda3/envs/pytorch_p39/lib/python3.9/site-packages (from requests->roboflow) (2.1.1)\n",
      "Building wheels for collected packages: wget\n",
      "  Building wheel for wget (setup.py) ... \u001b[?25ldone\n",
      "\u001b[?25h  Created wheel for wget: filename=wget-3.2-py3-none-any.whl size=9656 sha256=2af7412920c187e53228d6dc5f56027258cab46f1f480774aadbbc6a3f75cfaa\n",
      "  Stored in directory: /home/ec2-user/.cache/pip/wheels/ba/78/fb/e0c24a9e73d7483b073d15b7e05f43f3fc2ac75eff6899c7aa\n",
      "Successfully built wget\n",
      "Installing collected packages: wget, pyparsing, idna, cycler, chardet, requests-toolbelt, roboflow\n",
      "  Attempting uninstall: pyparsing\n",
      "    Found existing installation: pyparsing 3.0.9\n",
      "    Uninstalling pyparsing-3.0.9:\n",
      "      Successfully uninstalled pyparsing-3.0.9\n",
      "  Attempting uninstall: idna\n",
      "    Found existing installation: idna 3.4\n",
      "    Uninstalling idna-3.4:\n",
      "      Successfully uninstalled idna-3.4\n",
      "  Attempting uninstall: cycler\n",
      "    Found existing installation: cycler 0.11.0\n",
      "    Uninstalling cycler-0.11.0:\n",
      "      Successfully uninstalled cycler-0.11.0\n",
      "  Attempting uninstall: chardet\n",
      "    Found existing installation: chardet 5.1.0\n",
      "    Uninstalling chardet-5.1.0:\n",
      "      Successfully uninstalled chardet-5.1.0\n",
      "\u001b[31mERROR: pip's dependency resolver does not currently take into account all the packages that are installed. This behaviour is the source of the following dependency conflicts.\n",
      "jupyterlab 3.3.4 requires jupyter-server~=1.4, but you have jupyter-server 2.0.6 which is incompatible.\n",
      "jupyterlab-server 2.18.0 requires jsonschema>=4.17.3, but you have jsonschema 3.2.0 which is incompatible.\n",
      "distributed 2022.11.0 requires tornado<6.2,>=6.0.3, but you have tornado 6.2 which is incompatible.\u001b[0m\u001b[31m\n",
      "\u001b[0mSuccessfully installed chardet-4.0.0 cycler-0.10.0 idna-2.10 pyparsing-2.4.7 requests-toolbelt-1.0.0 roboflow-1.0.9 wget-3.2\n",
      "Looking in indexes: https://pypi.org/simple, https://pip.repos.neuron.amazonaws.com\n",
      "Requirement already satisfied: pycocotools in /home/ec2-user/anaconda3/envs/pytorch_p39/lib/python3.9/site-packages (2.0.6)\n",
      "Requirement already satisfied: numpy in /home/ec2-user/anaconda3/envs/pytorch_p39/lib/python3.9/site-packages (from pycocotools) (1.23.5)\n",
      "Requirement already satisfied: matplotlib>=2.1.0 in /home/ec2-user/anaconda3/envs/pytorch_p39/lib/python3.9/site-packages (from pycocotools) (3.5.3)\n",
      "Requirement already satisfied: pyparsing>=2.2.1 in /home/ec2-user/anaconda3/envs/pytorch_p39/lib/python3.9/site-packages (from matplotlib>=2.1.0->pycocotools) (2.4.7)\n",
      "Requirement already satisfied: pillow>=6.2.0 in /home/ec2-user/anaconda3/envs/pytorch_p39/lib/python3.9/site-packages (from matplotlib>=2.1.0->pycocotools) (9.2.0)\n",
      "Requirement already satisfied: kiwisolver>=1.0.1 in /home/ec2-user/anaconda3/envs/pytorch_p39/lib/python3.9/site-packages (from matplotlib>=2.1.0->pycocotools) (1.4.4)\n",
      "Requirement already satisfied: packaging>=20.0 in /home/ec2-user/anaconda3/envs/pytorch_p39/lib/python3.9/site-packages (from matplotlib>=2.1.0->pycocotools) (21.3)\n",
      "Requirement already satisfied: python-dateutil>=2.7 in /home/ec2-user/anaconda3/envs/pytorch_p39/lib/python3.9/site-packages (from matplotlib>=2.1.0->pycocotools) (2.8.2)\n",
      "Requirement already satisfied: fonttools>=4.22.0 in /home/ec2-user/anaconda3/envs/pytorch_p39/lib/python3.9/site-packages (from matplotlib>=2.1.0->pycocotools) (4.38.0)\n",
      "Requirement already satisfied: cycler>=0.10 in /home/ec2-user/anaconda3/envs/pytorch_p39/lib/python3.9/site-packages (from matplotlib>=2.1.0->pycocotools) (0.10.0)\n",
      "Requirement already satisfied: six in /home/ec2-user/anaconda3/envs/pytorch_p39/lib/python3.9/site-packages (from cycler>=0.10->matplotlib>=2.1.0->pycocotools) (1.16.0)\n"
     ]
    }
   ],
   "source": [
    "!pip install roboflow\n",
    "!pip install pycocotools"
   ]
  },
  {
   "cell_type": "code",
   "execution_count": 5,
   "id": "8856263a",
   "metadata": {},
   "outputs": [
    {
     "name": "stdout",
     "output_type": "stream",
     "text": [
      "loading Roboflow workspace...\n",
      "loading Roboflow project...\n",
      "Downloading Dataset Version Zip in NLsuffiiciency-1 to coco-segmentation: 100% [145277395 / 145277395] bytes\n"
     ]
    },
    {
     "name": "stderr",
     "output_type": "stream",
     "text": [
      "Extracting Dataset Version Zip to NLsuffiiciency-1 in coco-segmentation:: 100%|██████████| 1448/1448 [00:00<00:00, 2701.64it/s]\n"
     ]
    }
   ],
   "source": [
    "\n",
    "from roboflow import Roboflow\n",
    "rf = Roboflow(api_key=\"mEzR10rgs31yQlNcasbD\")\n",
    "project = rf.workspace(\"aha\").project(\"nlsuffiiciency\")\n",
    "dataset = project.version(1).download(\"coco-segmentation\")\n",
    "\n"
   ]
  },
  {
   "cell_type": "code",
   "execution_count": 6,
   "id": "350c9a2a",
   "metadata": {},
   "outputs": [
    {
     "name": "stdout",
     "output_type": "stream",
     "text": [
      "loading annotations into memory...\n",
      "Done (t=0.24s)\n",
      "creating index...\n",
      "index created!\n"
     ]
    }
   ],
   "source": [
    "import torchvision\n",
    "import os\n",
    "\n",
    "class CocoDetection(torchvision.datasets.CocoDetection):\n",
    "    def __init__(self, img_folder, train=True):\n",
    "        ann_file = os.path.join(img_folder, \"_annotations.coco.json\")\n",
    "        super(CocoDetection, self).__init__(img_folder, ann_file)\n",
    "\n",
    "    def __getitem__(self, idx):\n",
    "        # read in PIL image and target in COCO format\n",
    "        img, target = super(CocoDetection, self).__getitem__(idx)\n",
    "        return img, target\n",
    "\n",
    "train_dataset = CocoDetection(img_folder=(dataset.location + '/train'))"
   ]
  },
  {
   "cell_type": "code",
   "execution_count": 7,
   "id": "1ec01275",
   "metadata": {},
   "outputs": [
    {
     "name": "stdout",
     "output_type": "stream",
     "text": [
      "<PIL.Image.Image image mode=RGB size=640x640 at 0x7F669789CF70>\n",
      "[{'id': 0, 'image_id': 0, 'category_id': 2, 'bbox': [47, 24, 292.446, 325.647], 'area': 95234.336, 'segmentation': [[315.062, 251.811, 325.257, 246.59, 335.172, 238.995, 333.846, 236.823, 324.445, 235.898, 313.383, 227.36, 310.443, 223.397, 307.533, 215.865, 303.545, 197.208, 303.968, 191.943, 301.557, 181.4, 300.735, 166.013, 302.818, 160.912, 328.056, 153.091, 335.524, 148.725, 339.03, 139.784, 338.923, 133.651, 332.081, 125.427, 327.475, 124.055, 321.718, 124.202, 319.475, 120.104, 309.914, 117.428, 302.945, 118.782, 299.984, 123.083, 299.251, 129.541, 286.92, 136.796, 279.632, 134.65, 267.27, 138.024, 264.732, 137.06, 261.368, 130.913, 267.593, 123.873, 268.441, 120.793, 265.576, 111.633, 266.271, 104.049, 264.345, 96.002, 267.253, 88.635, 256.564, 86.665, 251.594, 83.42, 244.041, 80.84, 240.995, 78.193, 239.251, 71.083, 241.682, 65.914, 247.711, 63.446, 250.969, 63.461, 253.318, 66.243, 261.945, 65.052, 261.034, 52.922, 253.819, 38.13, 241.038, 29.116, 234.811, 28.707, 217.676, 24.265, 210.176, 24.751, 201.708, 27.692, 176.953, 30.561, 166.841, 35.28, 166.661, 41.792, 162.753, 47.734, 161.512, 52.51, 161.65, 62.523, 160.303, 68.615, 155.517, 73.756, 153.472, 79.983, 150.678, 83.279, 140.998, 87.428, 141.15, 91.933, 137.922, 88.35, 126.242, 89.649, 121.887, 94.22, 120.32, 98.249, 115.064, 102.834, 102.884, 107.144, 81.143, 108.779, 76.38, 113.106, 75.82, 115.806, 81.048, 122.239, 82.625, 130.353, 84.625, 133.203, 85.187, 137.953, 81.385, 142.578, 81.113, 144.898, 85.478, 152.471, 76.373, 155.86, 78.072, 164.599, 75.785, 169.577, 76.407, 174.639, 85.324, 180.517, 95.793, 180.425, 98.634, 182.95, 89.236, 196.922, 81.98, 198.656, 71.209, 204.637, 65.476, 211.419, 63.144, 218.026, 63.085, 225.163, 65.874, 232.07, 68.013, 244.934, 57.303, 251.226, 46.584, 285.374, 48.539, 289.852, 52.464, 293.3, 51.753, 298.944, 55.285, 311.537, 58.884, 314.238, 64.475, 315.095, 69.322, 310.266, 72.049, 309.412, 74.852, 310.81, 78.806, 310.689, 83.592, 305.549, 94.439, 301.821, 101.484, 302.719, 112.371, 307.566, 113.326, 310.619, 110.009, 317.741, 110.117, 323.874, 112.269, 331.229, 110.808, 333.942, 108.43, 334.729, 107.665, 337.306, 110.296, 349.912, 112.122, 349.072, 110.317, 341.649, 111.9, 339.56, 118.43, 341.53, 120.566, 339.495, 123.414, 339.265, 123.695, 341.64, 126.566, 340.596, 129.656, 341.615, 132.884, 345.198, 139.156, 343.978, 139.716, 341.279, 143.306, 339.285, 145.593, 334.306, 151.501, 331.215, 153.235, 326.181, 158.226, 321.163, 173.906, 318.115, 187.98, 317.97, 195.979, 314.472, 199.085, 317.431, 201.084, 312.832, 204.159, 311.91, 208.091, 312.603, 210.417, 316.2, 218.128, 313.081, 216.667, 315.795, 219.349, 316.569, 223.327, 323.083, 228.068, 319.57, 230.629, 319.72, 235.023, 323.724, 243.644, 325.288, 248.016, 330.106, 253.887, 333.337, 265.545, 332.852, 270.177, 315.757, 272.336, 312.909, 280.357, 308.597, 282.219, 301.433, 282.096, 293.36, 285.655, 287.486, 286.078, 282.222, 290.38, 274.584, 301.461, 267.41, 315.062, 251.811]], 'iscrowd': 0}, {'id': 1, 'image_id': 0, 'category_id': 2, 'bbox': [240, 14, 342.862, 225.463], 'area': 77302.803, 'segmentation': [[515.438, 204.602, 521.798, 192.678, 520.419, 187.44, 509.986, 181.209, 505.093, 180.217, 497.427, 181.707, 491.767, 175.844, 485.934, 173.739, 484.812, 171.689, 486.478, 169.098, 485.644, 166.669, 486.773, 165.964, 488.099, 168.135, 489.758, 168.299, 496.15, 160.255, 503.209, 155.644, 524.237, 152.204, 534.311, 146.359, 538.544, 141.164, 544.268, 129.687, 543.934, 124.246, 541.448, 118.899, 542.501, 115.942, 547.963, 118.929, 550.934, 126.772, 554.018, 130.545, 559.108, 126.965, 564.416, 117.998, 565.853, 108.649, 561.958, 101.633, 562.487, 95.053, 566.766, 88.229, 579.634, 79.088, 580.875, 74.313, 580.42, 68.248, 582.358, 63.336, 581.736, 58.275, 583.053, 55.752, 581.264, 50.27, 574.915, 41.787, 566.939, 44.471, 562.598, 43.534, 561.764, 41.105, 563.444, 33.005, 561.716, 27.835, 555.314, 23.735, 541.314, 18.683, 537.315, 20.432, 529.467, 20.986, 523.104, 18.013, 509.029, 18.157, 503.877, 13.977, 499.984, 14.41, 496.969, 15.643, 489.419, 27.961, 491.996, 37.5, 490.96, 42.398, 482.597, 44.024, 478.832, 42.327, 477.854, 40.087, 473.43, 39.652, 458.447, 42.564, 458.213, 46.011, 464.046, 48.115, 464.471, 50.3, 462.275, 52.023, 463.427, 57.952, 461.118, 63.745, 447.905, 55.302, 440.208, 52.911, 434.14, 46.803, 419.389, 38.82, 414.192, 36.268, 401.147, 34.269, 394.815, 35.176, 387.998, 41.036, 379.166, 42.105, 375.167, 43.854, 367.078, 50.608, 363.942, 51.218, 345.079, 49.054, 312.431, 54.105, 301.645, 58.145, 300.29, 59.542, 302.503, 67.209, 292.331, 71.615, 287.392, 72.251, 276.498, 70.158, 269.817, 71.133, 257.681, 66.367, 253.257, 65.931, 250.211, 63.284, 246.318, 63.717, 241.985, 67.474, 240.191, 72.196, 243.283, 80.663, 261.662, 87.779, 265.647, 91.539, 265.71, 99.3, 267.847, 104.714, 276.15, 110.226, 277.742, 112.831, 279.931, 113.863, 289.051, 112.414, 290.287, 117.842, 293.068, 120.055, 299.643, 120.396, 311.551, 118.405, 316.233, 122.029, 321.801, 123.7, 323.475, 125.804, 330.156, 124.829, 335.407, 130.448, 339.907, 133.136, 340.03, 141.209, 337.485, 142.999, 337.19, 146.134, 334.403, 146.675, 331.525, 150.474, 326.359, 151.802, 321.209, 155.07, 307.453, 158.715, 303.227, 161.156, 301.705, 163.558, 301.314, 180.152, 306.607, 209.244, 310.261, 222.461, 318.005, 230.672, 332.285, 238.098, 334.952, 236.932, 342.284, 237.45, 355.01, 235.948, 368.707, 239.44, 388.431, 233.015, 390.628, 231.292, 409.398, 229.263, 416.17, 225.032, 420.259, 220.026, 424.031, 218.969, 425.949, 222.321, 423.662, 227.3, 425.177, 227.653, 428.458, 234.303, 428.117, 231.616, 430.093, 227.831, 434.018, 231.279, 441.737, 232.855, 443.268, 235.149, 442.89, 238.785, 447.109, 239.099, 449.51, 237.498, 450.767, 234.663, 450.161, 231.542, 452.955, 228.246, 453.751, 229.549, 452.721, 231.692, 456.744, 236.578, 476.561, 234.345, 477.705, 235.581, 476.963, 237.344, 478.069, 237.453, 478.318, 235.947, 483.318, 235.623, 488.12, 232.422, 502.345, 229.333, 503.905, 228.059, 507.139, 221.438, 508.198, 215.726, 509.842, 213.949, 513.121, 213.15, 515.438, 204.602]], 'iscrowd': 0}, {'id': 2, 'image_id': 0, 'category_id': 2, 'bbox': [271, 229, 368.776, 307.193], 'area': 113285.243, 'segmentation': [[640, 347.438, 626.434, 341.244, 621.547, 337.498, 621.606, 330.361, 624.921, 315.79, 620.086, 307.661, 620.191, 298.896, 615.796, 294.891, 612.152, 293.818, 605.698, 294.101, 595.139, 297.449, 593.905, 299.471, 594.057, 303.975, 600.376, 308.577, 595.931, 316.405, 589.619, 309.048, 579.127, 302.505, 569.975, 300.073, 553.174, 301.072, 549.742, 297.367, 547.816, 289.32, 545.096, 287.42, 539.658, 291.068, 536.522, 291.678, 526.492, 288.445, 504.617, 262.414, 509.839, 239.051, 506.854, 236.716, 506.171, 231.343, 503.451, 229.442, 490.287, 234.268, 474.895, 236.937, 469.623, 239.581, 467.213, 236.486, 460.759, 236.769, 454.578, 234.732, 451.093, 235.409, 445.307, 239.125, 437.913, 238.295, 434.838, 239.217, 432.763, 241.563, 430.142, 241.101, 429.802, 245.864, 432.911, 263.721, 427.618, 274.628, 422.118, 270.515, 419.27, 270.745, 408.984, 279.222, 406.197, 279.763, 403.045, 278.433, 397.94, 280.073, 389.276, 287.587, 381.731, 289.701, 375.997, 289.035, 372.556, 280.635, 374.168, 274.977, 386.34, 265.972, 385.96, 262.159, 379.035, 254.436, 374.876, 254.435, 371.747, 252.29, 368.398, 248.083, 366.367, 241.352, 364.177, 240.32, 354.875, 240.833, 352.238, 238.43, 349.572, 239.596, 341.255, 239.594, 333.892, 242.644, 314.79, 254.131, 299.378, 272.511, 298.667, 278.155, 301.971, 283.991, 300.609, 288.142, 296.935, 290.637, 291.96, 297.596, 291.408, 304.991, 287.425, 308.68, 273.268, 316.776, 271.224, 323.003, 271.907, 328.377, 276.567, 332.815, 286.195, 333.049, 287.651, 340.539, 290.22, 345.384, 303.597, 345.374, 309.529, 348.918, 309.318, 351.55, 311.318, 354.4, 310.911, 361.605, 313.79, 365.255, 319.646, 366.546, 321.093, 369.342, 323.631, 370.306, 332.054, 368.992, 335.206, 370.323, 340.637, 369.429, 344.503, 380.014, 344.837, 385.455, 349.852, 387.071, 352.884, 395.227, 366.597, 408.108, 378.9, 411.87, 379.585, 424.692, 384.542, 440.895, 388.213, 463.501, 394.322, 478.184, 390.769, 481.303, 387.838, 482.035, 390.384, 487.694, 392.024, 503.569, 397.404, 514.507, 399.275, 512.038, 404.729, 510.33, 405.372, 507.128, 412.771, 497.755, 429.073, 499.768, 437.557, 498.767, 439.746, 499.799, 442.098, 517.479, 453.583, 520.753, 455.736, 528.108, 457.698, 529.832, 461.039, 529.344, 463.774, 533.185, 471.091, 531.763, 476.016, 536.635, 481.508, 536.053, 484.113, 534.575, 483.961, 530.071, 485.771, 527.29, 488.498, 526.436, 493.754, 521.851, 498.693, 521.215, 502.694, 526.915, 504.89, 525.193, 510.587, 524.733, 511.7, 522.088, 510.29, 520.418, 510.668, 516.782, 514, 511.6, 511.409, 507.569, 510.741, 504.136, 511.976, 502.115, 516.157, 501.302, 523.915, 504.005, 529.02, 502.365, 538.669, 494.335, 543.553, 483.184, 547.581, 477.866, 552.427, 465.588, 552.895, 458.696, 550.879, 453.906, 552.015, 450.446, 551.044, 445.453, 544.664, 433.09, 532.314, 423.507, 545.494, 420.621, 543.825, 408.314, 547.755, 401.558, 554.648, 397.951, 565.798, 395.783, 574.707, 396.967, 582.026, 402.993, 586.737, 403.049, 597.418, 400.325, 601.244, 402.335, 610.972, 411.456, 616.191, 413.194, 619.964, 412.137, 624.629, 406.372, 630.575, 404.407, 629.982, 395.777, 621.466, 385.449, 620.904, 380.7, 622.903, 376.1, 628.863, 368.626, 633.135, 364.557, 638.816, 362.157, 640, 360.865, 640, 347.438]], 'iscrowd': 0}, {'id': 3, 'image_id': 0, 'category_id': 2, 'bbox': [27, 318, 374.082, 321.616], 'area': 120310.556, 'segmentation': [[232.051, 640, 235.298, 633.952, 249.265, 627.674, 257.704, 628.301, 266.114, 632.496, 268.854, 626.134, 275.08, 619.094, 280.457, 615.133, 288.388, 614.078, 296.678, 625.098, 296.997, 628.599, 300.626, 635.18, 309.412, 628.29, 314.311, 619.079, 316.712, 617.479, 321.485, 617.847, 326.553, 622.529, 336.455, 627.892, 344.665, 621.762, 347.217, 617.217, 347.913, 609.633, 345.578, 601.342, 350.227, 593.636, 351.181, 589.241, 348.058, 576.892, 346.565, 575.725, 343.02, 576.09, 339.133, 573.769, 334.496, 568.516, 333.238, 563.903, 335.873, 558.856, 334.857, 555.491, 332.463, 554.337, 336.971, 554.27, 346.203, 548.751, 345.354, 544.382, 348.428, 536.011, 347.109, 531.085, 350.054, 524.845, 356.553, 522.934, 365.478, 526.057, 370.644, 524.729, 371.651, 523.4, 370.892, 515.774, 367.316, 512.259, 362.692, 501.498, 363.251, 491.349, 371.619, 479.52, 374.982, 478.218, 379.543, 481.218, 389.724, 481.506, 391.581, 484.546, 393.649, 484.954, 399.512, 483.49, 400.867, 482.093, 399.132, 479.678, 396.201, 480.409, 396.412, 477.777, 392.29, 471.453, 389.546, 462.918, 387.997, 443.786, 386.754, 441.112, 392.192, 437.464, 390.585, 432.918, 384.806, 433.88, 383.131, 431.776, 383.669, 429.89, 389.426, 429.743, 390.098, 422.973, 387.424, 419.444, 384.94, 421.546, 380.985, 421.667, 379.235, 417.311, 381.166, 415.154, 387.15, 414.315, 388.157, 412.986, 387.384, 410.869, 376.999, 410.458, 365.575, 407.497, 357.991, 401.036, 350.58, 390.816, 347.201, 390.178, 344.428, 385.211, 342.769, 385.047, 338.603, 387.8, 334.481, 381.476, 331.565, 384.148, 329.913, 381.23, 330.511, 379.657, 334.178, 379.916, 335.965, 377.949, 342.956, 375.78, 338.919, 376.403, 333.616, 375.167, 328.239, 379.127, 326.398, 378.027, 323.231, 374.756, 320.381, 367.537, 317.389, 367.957, 311.048, 364.169, 310.077, 359.176, 312.728, 356.069, 311.773, 353.016, 308.704, 351.183, 303.129, 352.267, 296.041, 360.446, 290.511, 359.902, 288.2, 358.246, 285.002, 351.094, 279.661, 348.732, 274.313, 349.123, 264.692, 346.135, 256.662, 345.753, 242.376, 348.53, 233.33, 344.782, 231.489, 343.682, 231.928, 340.358, 234.352, 337.944, 234.289, 330.183, 231.577, 325.528, 225.523, 321.361, 217.494, 320.978, 210.842, 318.384, 194.481, 323.508, 189.45, 319.951, 183.799, 318.783, 165.831, 319.36, 159.453, 321.896, 156.31, 325.26, 155.993, 329.208, 153.425, 331.812, 142.275, 333.98, 131.17, 334.519, 126.346, 338.533, 126.748, 341.532, 123.695, 341.64, 125.444, 338.547, 112.021, 340.184, 109.279, 339.098, 107.5, 345.759, 108.016, 352.137, 104.934, 355.813, 84.284, 355.616, 77.785, 357.527, 77.128, 366.238, 80.567, 367.189, 84.341, 373.581, 93.008, 380.965, 94.676, 385.823, 93.223, 393.231, 89.08, 395.169, 80.414, 395.235, 77.255, 396.658, 78.226, 401.652, 82.151, 405.099, 82.757, 408.22, 78.964, 417.541, 71.147, 421.975, 65.224, 423.126, 59.694, 422.582, 57.369, 426.434, 57.234, 431.319, 54.091, 434.683, 50.667, 435.672, 42.925, 434.91, 32.593, 437.566, 31.314, 441.216, 28.027, 444.77, 26.785, 449.545, 33.445, 456.834, 46.58, 455.576, 51.573, 458.006, 51.498, 463.203, 43.425, 471.898, 45.699, 479.877, 44.17, 485.032, 49.39, 486.77, 53.51, 485.646, 58.056, 486.705, 63.61, 493.885, 61.732, 499.108, 62.112, 502.921, 67.192, 527.196, 69.867, 530.725, 74.23, 530.849, 76.889, 532.437, 79.042, 539.792, 83.027, 543.551, 91.958, 543.921, 98.845, 550.517, 101.792, 551.726, 108.624, 547.806, 111.594, 548.201, 114.147, 551.105, 112.33, 556.641, 113.256, 563.262, 115.445, 564.294, 121.551, 564.079, 125.309, 568.531, 130.884, 567.447, 140.427, 560.734, 143.283, 557.75, 144.274, 554.48, 150.227, 549.76, 155.575, 549.368, 158.963, 554.702, 163.69, 556.698, 171.562, 562.779, 186.803, 563.055, 193.659, 565.771, 196.63, 573.615, 196.373, 577.875, 192.951, 586.313, 193.618, 589.746, 200.52, 590.834, 208.17, 587.404, 215.055, 586.551, 217.118, 597.162, 213.423, 607.921, 208.023, 612.695, 199.479, 613.384, 194.555, 615.961, 187.86, 622.444, 187.035, 624.71, 187.824, 628.767, 191.521, 632.907, 192.393, 640, 232.051, 640]], 'iscrowd': 0}]\n"
     ]
    }
   ],
   "source": [
    "for item in train_dataset:\n",
    "    img,ann=item\n",
    "    print(img)\n",
    "    print(ann)\n",
    "    break"
   ]
  },
  {
   "cell_type": "code",
   "execution_count": 8,
   "id": "f74f5ebe",
   "metadata": {},
   "outputs": [
    {
     "data": {
      "text/plain": [
       "'/home/ec2-user/SageMaker/Nano-Instance-Segmentor/notebooks/NLsuffiiciency-1/train'"
      ]
     },
     "execution_count": 8,
     "metadata": {},
     "output_type": "execute_result"
    }
   ],
   "source": [
    "dataset.location + '/train'"
   ]
  },
  {
   "cell_type": "code",
   "execution_count": null,
   "id": "a5e99677",
   "metadata": {},
   "outputs": [],
   "source": []
  }
 ],
 "metadata": {
  "kernelspec": {
   "display_name": "conda_pytorch_p39",
   "language": "python",
   "name": "conda_pytorch_p39"
  },
  "language_info": {
   "codemirror_mode": {
    "name": "ipython",
    "version": 3
   },
   "file_extension": ".py",
   "mimetype": "text/x-python",
   "name": "python",
   "nbconvert_exporter": "python",
   "pygments_lexer": "ipython3",
   "version": "3.9.15"
  }
 },
 "nbformat": 4,
 "nbformat_minor": 5
}
